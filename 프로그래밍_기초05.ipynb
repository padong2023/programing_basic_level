{
  "nbformat": 4,
  "nbformat_minor": 0,
  "metadata": {
    "colab": {
      "provenance": [],
      "authorship_tag": "ABX9TyPoe7iEPUYpzI4kqvId6DS5",
      "include_colab_link": true
    },
    "kernelspec": {
      "name": "python3",
      "display_name": "Python 3"
    },
    "language_info": {
      "name": "python"
    }
  },
  "cells": [
    {
      "cell_type": "markdown",
      "metadata": {
        "id": "view-in-github",
        "colab_type": "text"
      },
      "source": [
        "<a href=\"https://colab.research.google.com/github/padong2023/programing_basic_level/blob/main/%ED%94%84%EB%A1%9C%EA%B7%B8%EB%9E%98%EB%B0%8D_%EA%B8%B0%EC%B4%8805.ipynb\" target=\"_parent\"><img src=\"https://colab.research.google.com/assets/colab-badge.svg\" alt=\"Open In Colab\"/></a>"
      ]
    },
    {
      "cell_type": "markdown",
      "source": [
        "# **파이썬 프로그래밍의 핵심, 클래스**\n",
        "## 클래스란 무엇일까???"
      ],
      "metadata": {
        "id": "ibcnOJLcA2m5"
      }
    },
    {
      "cell_type": "code",
      "execution_count": null,
      "metadata": {
        "id": "tWF69iF7AxP3"
      },
      "outputs": [],
      "source": [
        "# 예제를 통해 알아보자 - 계산기가 두 개 필요한 상황\n",
        "result = 0\n",
        "\n",
        "def adder(num):\n",
        "  global result\n",
        "  result += num\n",
        "  return result\n",
        "\n",
        "print(adder(3))\n",
        "print(adder(4))"
      ]
    },
    {
      "cell_type": "code",
      "source": [
        "# 우리가 지금까지 배운 내용을 토대로 한 해결방안\n",
        "result01 = 0\n",
        "result02 = 0\n",
        "\n",
        "def adder01(num):\n",
        "  global result01\n",
        "  result01 += num\n",
        "  return result01\n",
        "\n",
        "def adder02(num):\n",
        "  global result02\n",
        "  result02 += num\n",
        "  return result02\n",
        "\n",
        "print(adder01(3))\n",
        "print(adder02(4))\n",
        "print(adder01(7))\n",
        "print(adder02(4))"
      ],
      "metadata": {
        "id": "m3_HDoX3CJEd"
      },
      "execution_count": null,
      "outputs": []
    },
    {
      "cell_type": "code",
      "source": [
        "# 클래스를 활용한 해결방안\n",
        "class Calculator:\n",
        "  def __init__(self):\n",
        "    self.result=0\n",
        "\n",
        "  def adder(self, num):\n",
        "    self.result += num\n",
        "    return self.result"
      ],
      "metadata": {
        "id": "hGGYLx3PCoIE"
      },
      "execution_count": null,
      "outputs": []
    },
    {
      "cell_type": "code",
      "source": [
        "cal1 = Calculator()\n",
        "cal2 = Calculator()\n",
        "\n",
        "print(cal1.adder(3))\n",
        "print(cal1.adder(4))\n",
        "print(cal2.adder(5))\n",
        "print(cal2.adder(6))"
      ],
      "metadata": {
        "id": "k5Rmzv-7FvyN"
      },
      "execution_count": null,
      "outputs": []
    },
    {
      "cell_type": "markdown",
      "source": [
        "# **클래스를 비유하는 수 많은 예시**\n",
        "## 붕어빵틀, 뽑기틀, 공장 등..."
      ],
      "metadata": {
        "id": "l8VXDCfzGI1V"
      }
    },
    {
      "cell_type": "code",
      "source": [
        "# 파이썬 클래스의 간단한 예시\n",
        "class Simple:\n",
        "  pass"
      ],
      "metadata": {
        "id": "uAkALEWLGg2_"
      },
      "execution_count": null,
      "outputs": []
    },
    {
      "cell_type": "code",
      "source": [
        "# 인스턴스 : 클래스에 의해 만들어지느 객체\n",
        "## 아래의 코드에서는 Simple()의 결과값을 돌려받는 a가 바로 인스턴스!!!!\n",
        "a=Simple()"
      ],
      "metadata": {
        "id": "9_BMqkghGoq-"
      },
      "execution_count": null,
      "outputs": []
    },
    {
      "cell_type": "code",
      "source": [
        "## 위의 말은 이해가 잘 안되죠?ㅎㅎ\n",
        "## 실습해보며 이해해봐요~~!!\n",
        "### 비밀정보를 갖는 Service 클래스 생성\n",
        "class Service:\n",
        "  secret = \"은찬이는 컴퓨터가 싫어요\""
      ],
      "metadata": {
        "id": "AMpdL4aePBmF"
      },
      "execution_count": null,
      "outputs": []
    },
    {
      "cell_type": "code",
      "source": [
        "### pey라는 인스턴스로 클래스에 접근\n",
        "pey = Service()"
      ],
      "metadata": {
        "id": "glozamqEPhCS"
      },
      "execution_count": null,
      "outputs": []
    },
    {
      "cell_type": "code",
      "source": [
        "### pey를 통해 그안의 비밀정보를 캐낸다.\n",
        "pey.secret"
      ],
      "metadata": {
        "id": "r5Ft68VKPlHk"
      },
      "execution_count": null,
      "outputs": []
    },
    {
      "cell_type": "code",
      "source": [
        "### 클래스 업그레이드하기\n",
        "class Service_02:\n",
        "  secret = \"은찬이는 컴퓨터가 싫어요\"\n",
        "\n",
        "  # sum 추가함.\n",
        "  def sum(self, a, b):\n",
        "    result = a + b\n",
        "    print(\"%s + %s = %s입니다.\" %(a, b, result))"
      ],
      "metadata": {
        "id": "tG3PtZdmP8b2"
      },
      "execution_count": null,
      "outputs": []
    },
    {
      "cell_type": "code",
      "source": [
        "lee = Service_02()"
      ],
      "metadata": {
        "id": "_KmeGmx2QR_D"
      },
      "execution_count": null,
      "outputs": []
    },
    {
      "cell_type": "code",
      "source": [
        "lee.sum(2,3)"
      ],
      "metadata": {
        "colab": {
          "base_uri": "https://localhost:8080/"
        },
        "id": "wmK2_BQ2QgHA",
        "outputId": "da4bc558-a1da-4da4-baa5-5c2e714ddf5b"
      },
      "execution_count": null,
      "outputs": [
        {
          "output_type": "stream",
          "name": "stdout",
          "text": [
            "2 + 3 = 5입니다.\n"
          ]
        }
      ]
    },
    {
      "cell_type": "markdown",
      "source": [
        "## self 간단히 살펴보기\n",
        "클래스 내부에 정의된 함수인 메서드의 첫번째 인자는 반드시 self여야 한다.\n",
        "라고 책과 많은 곳에서 self를 설명할 때 말한다. 엄밀히 말하면 아니긴 무조건은 아니다!!\n",
        "\n",
        "하지만 이 단계에서는 자기자신을 참조하는 것(=매개변수)이라고만 알아두세요~^^"
      ],
      "metadata": {
        "id": "TXFaacR8SpOt"
      }
    },
    {
      "cell_type": "code",
      "source": [
        "### 클래스 업그레이드하기\n",
        "class Service_03:\n",
        "  secret = \"은찬이는 컴퓨터가 싫어요\"\n",
        "\n",
        "  # setname 추가함.\n",
        "  def setname(self, name):\n",
        "    self.name = name\n",
        "\n",
        "  def sum(self, a, b):\n",
        "    result = a + b\n",
        "    print(\"%s님 %s + %s = %s입니다.\" %(self.name, a, b, result))"
      ],
      "metadata": {
        "id": "ygQMTcslQrhE"
      },
      "execution_count": null,
      "outputs": []
    },
    {
      "cell_type": "code",
      "source": [
        "tom = Service_03()"
      ],
      "metadata": {
        "id": "DJqbaqWBT7pI"
      },
      "execution_count": null,
      "outputs": []
    },
    {
      "cell_type": "code",
      "source": [
        "tom.setname(\"홍길동\")"
      ],
      "metadata": {
        "id": "IJqXVgWyVaMW"
      },
      "execution_count": null,
      "outputs": []
    },
    {
      "cell_type": "code",
      "source": [
        "tom.sum(2, 2)"
      ],
      "metadata": {
        "colab": {
          "base_uri": "https://localhost:8080/"
        },
        "id": "W2kWWlkuVuM-",
        "outputId": "cb5438c9-cb1e-4906-8e94-2d44144322fd"
      },
      "execution_count": null,
      "outputs": [
        {
          "output_type": "stream",
          "name": "stdout",
          "text": [
            "홍길동님 2 + 2 = 4입니다.\n"
          ]
        }
      ]
    },
    {
      "cell_type": "markdown",
      "source": [
        "# __init__ 이란 무엇인가?\n",
        "인스턴스를 만들 때 항상 실행된다."
      ],
      "metadata": {
        "id": "ro2Xo_m-V8jO"
      }
    },
    {
      "cell_type": "code",
      "source": [
        "### 클래스 업그레이드하기\n",
        "class Service_04:\n",
        "  secret = \"은찬이는 컴퓨터가 싫어요\"\n",
        "\n",
        "  def __init__(self, name):   # __init__으로 수정함.\n",
        "    self.name = name\n",
        "\n",
        "  def sum(self, a, b):\n",
        "    result = a + b\n",
        "    print(\"%s님 %s + %s = %s입니다.\" %(self.name, a, b, result))"
      ],
      "metadata": {
        "id": "8rPJ5XWbWJgV"
      },
      "execution_count": null,
      "outputs": []
    },
    {
      "cell_type": "code",
      "source": [
        "babo = Service_04(\"홍길동\")\n",
        "babo.sum(2, 2)"
      ],
      "metadata": {
        "id": "j5yxfdnQWBUN"
      },
      "execution_count": null,
      "outputs": []
    },
    {
      "cell_type": "markdown",
      "source": [
        "# 클래스 자세히 알아보기\n",
        "## 클래스의 구조\n",
        "\n",
        "\n",
        "```\n",
        "class 클래스 이름[(상속 클래스명)]\n",
        "  <클래스 변수 1>\n",
        "  <클래스 변수 2>\n",
        "  ...\n",
        "  <클래스 변수 n>\n",
        "\n",
        "  def 클래스 함수1(self,[인수1, 인수2,,,])\n",
        "    <수행할 문장 1>\n",
        "    <수행할 문장 2>\n",
        "    ...\n",
        "  def 클래스 함수2(self,[인수1, 인수2,,,])\n",
        "    <수행할 문장 1>\n",
        "    <수행할 문장 2>\n",
        "    ...\n",
        "    ...\n",
        "  \n",
        "  def 클래스 함수N(self,[인수1, 인수2,,,])\n",
        "    <수행할 문장 1>\n",
        "    <수행할 문장 2>\n",
        "    ...\n",
        "  ...\n",
        "```\n",
        "\n"
      ],
      "metadata": {
        "id": "4je0yuGzXKFt"
      }
    },
    {
      "cell_type": "code",
      "source": [
        "# 사칙연산 클래스 만들기"
      ],
      "metadata": {
        "id": "wFWePqbVX4mc"
      },
      "execution_count": null,
      "outputs": []
    }
  ]
}